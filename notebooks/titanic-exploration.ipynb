{
 "cells": [
  {
   "cell_type": "code",
   "execution_count": 45,
   "id": "0cbb9c80",
   "metadata": {},
   "outputs": [],
   "source": [
    "\n",
    "# --- 1. Import Libraries ---\n",
    " \n",
    "import pandas as pd\n",
    "import numpy as np\n",
    "import seaborn as sns\n",
    "import matplotlib.pyplot as plt\n",
    "\n",
    "# Scikit-learn libraries for modeling\n",
    "from sklearn.model_selection import train_test_split\n",
    "from sklearn.linear_model import LogisticRegression\n",
    "from sklearn.metrics import accuracy_score, classification_report, confusion_matrix"
   ]
  },
  {
   "cell_type": "code",
   "execution_count": 46,
   "id": "3a20eb1d",
   "metadata": {},
   "outputs": [],
   "source": [
    "# --- 2. Load Data ---\n",
    " \n",
    "file_path = '../data/train.csv'\n",
    "df = pd.read_csv(file_path)"
   ]
  },
  {
   "cell_type": "code",
   "execution_count": 47,
   "id": "20854dbc",
   "metadata": {},
   "outputs": [
    {
     "name": "stdout",
     "output_type": "stream",
     "text": [
      "--- First 5 rows of the data ---\n",
      "   PassengerId  Survived  Pclass  \\\n",
      "0            1         0       3   \n",
      "1            2         1       1   \n",
      "2            3         1       3   \n",
      "3            4         1       1   \n",
      "4            5         0       3   \n",
      "\n",
      "                                                Name     Sex   Age  SibSp  \\\n",
      "0                            Braund, Mr. Owen Harris    male  22.0      1   \n",
      "1  Cumings, Mrs. John Bradley (Florence Briggs Th...  female  38.0      1   \n",
      "2                             Heikkinen, Miss. Laina  female  26.0      0   \n",
      "3       Futrelle, Mrs. Jacques Heath (Lily May Peel)  female  35.0      1   \n",
      "4                           Allen, Mr. William Henry    male  35.0      0   \n",
      "\n",
      "   Parch            Ticket     Fare Cabin Embarked  \n",
      "0      0         A/5 21171   7.2500   NaN        S  \n",
      "1      0          PC 17599  71.2833   C85        C  \n",
      "2      0  STON/O2. 3101282   7.9250   NaN        S  \n",
      "3      0            113803  53.1000  C123        S  \n",
      "4      0            373450   8.0500   NaN        S  \n",
      "\n",
      "--- Data Info ---\n",
      "<class 'pandas.core.frame.DataFrame'>\n",
      "RangeIndex: 891 entries, 0 to 890\n",
      "Data columns (total 12 columns):\n",
      " #   Column       Non-Null Count  Dtype  \n",
      "---  ------       --------------  -----  \n",
      " 0   PassengerId  891 non-null    int64  \n",
      " 1   Survived     891 non-null    int64  \n",
      " 2   Pclass       891 non-null    int64  \n",
      " 3   Name         891 non-null    object \n",
      " 4   Sex          891 non-null    object \n",
      " 5   Age          714 non-null    float64\n",
      " 6   SibSp        891 non-null    int64  \n",
      " 7   Parch        891 non-null    int64  \n",
      " 8   Ticket       891 non-null    object \n",
      " 9   Fare         891 non-null    float64\n",
      " 10  Cabin        204 non-null    object \n",
      " 11  Embarked     889 non-null    object \n",
      "dtypes: float64(2), int64(5), object(5)\n",
      "memory usage: 83.7+ KB\n",
      "\n",
      "--- Missing Values Count ---\n",
      "PassengerId      0\n",
      "Survived         0\n",
      "Pclass           0\n",
      "Name             0\n",
      "Sex              0\n",
      "Age            177\n",
      "SibSp            0\n",
      "Parch            0\n",
      "Ticket           0\n",
      "Fare             0\n",
      "Cabin          687\n",
      "Embarked         2\n",
      "dtype: int64\n"
     ]
    }
   ],
   "source": [
    "\n",
    "# --- 3. Explore Data (Initial Check) ---\n",
    " \n",
    "print(\"--- First 5 rows of the data ---\")\n",
    "print(df.head())\n",
    "\n",
    " \n",
    "print(\"\\n--- Data Info ---\")\n",
    "df.info()\n",
    "\n",
    "# Null values  \n",
    "print(\"\\n--- Missing Values Count ---\")\n",
    "print(df.isnull().sum())"
   ]
  },
  {
   "cell_type": "code",
   "execution_count": 48,
   "id": "04859f37",
   "metadata": {},
   "outputs": [
    {
     "name": "stdout",
     "output_type": "stream",
     "text": [
      "\n",
      "Missing 'Age' values filled with median: 28.0\n",
      "Missing 'Embarked' values filled with mode: S\n",
      "'Cabin' column dropped.\n",
      "\n",
      "--- Data after cleaning and conversion ---\n",
      "   PassengerId  Survived  Pclass  \\\n",
      "0            1         0       3   \n",
      "1            2         1       1   \n",
      "2            3         1       3   \n",
      "3            4         1       1   \n",
      "4            5         0       3   \n",
      "\n",
      "                                                Name   Age  SibSp  Parch  \\\n",
      "0                            Braund, Mr. Owen Harris  22.0      1      0   \n",
      "1  Cumings, Mrs. John Bradley (Florence Briggs Th...  38.0      1      0   \n",
      "2                             Heikkinen, Miss. Laina  26.0      0      0   \n",
      "3       Futrelle, Mrs. Jacques Heath (Lily May Peel)  35.0      1      0   \n",
      "4                           Allen, Mr. William Henry  35.0      0      0   \n",
      "\n",
      "             Ticket     Fare  Sex_male  Embarked_Q  Embarked_S  \n",
      "0         A/5 21171   7.2500      True       False        True  \n",
      "1          PC 17599  71.2833     False       False       False  \n",
      "2  STON/O2. 3101282   7.9250     False       False        True  \n",
      "3            113803  53.1000     False       False        True  \n",
      "4            373450   8.0500      True       False        True  \n",
      "\n",
      "--- Checking for nulls again ---\n",
      "PassengerId    0\n",
      "Survived       0\n",
      "Pclass         0\n",
      "Name           0\n",
      "Age            0\n",
      "SibSp          0\n",
      "Parch          0\n",
      "Ticket         0\n",
      "Fare           0\n",
      "Sex_male       0\n",
      "Embarked_Q     0\n",
      "Embarked_S     0\n",
      "dtype: int64\n"
     ]
    },
    {
     "name": "stderr",
     "output_type": "stream",
     "text": [
      "C:\\Users\\acer\\AppData\\Local\\Temp\\ipykernel_20700\\3447271416.py:4: FutureWarning: A value is trying to be set on a copy of a DataFrame or Series through chained assignment using an inplace method.\n",
      "The behavior will change in pandas 3.0. This inplace method will never work because the intermediate object on which we are setting values always behaves as a copy.\n",
      "\n",
      "For example, when doing 'df[col].method(value, inplace=True)', try using 'df.method({col: value}, inplace=True)' or df[col] = df[col].method(value) instead, to perform the operation inplace on the original object.\n",
      "\n",
      "\n",
      "  df['Age'].fillna(age_median, inplace=True)\n",
      "C:\\Users\\acer\\AppData\\Local\\Temp\\ipykernel_20700\\3447271416.py:10: FutureWarning: A value is trying to be set on a copy of a DataFrame or Series through chained assignment using an inplace method.\n",
      "The behavior will change in pandas 3.0. This inplace method will never work because the intermediate object on which we are setting values always behaves as a copy.\n",
      "\n",
      "For example, when doing 'df[col].method(value, inplace=True)', try using 'df.method({col: value}, inplace=True)' or df[col] = df[col].method(value) instead, to perform the operation inplace on the original object.\n",
      "\n",
      "\n",
      "  df['Embarked'].fillna(embarked_mode, inplace=True)\n"
     ]
    }
   ],
   "source": [
    "\n",
    "# --- 4. Data Cleaning & Preprocessing ---\n",
    " \n",
    "age_median = df['Age'].median()\n",
    "df['Age'].fillna(age_median, inplace=True)\n",
    "print(f\"\\nMissing 'Age' values filled with median: {age_median}\")\n",
    "\n",
    "# Step 4.2: Handle Missing 'Embarked' values\n",
    " \n",
    "embarked_mode = df['Embarked'].mode()[0]\n",
    "df['Embarked'].fillna(embarked_mode, inplace=True)\n",
    "print(f\"Missing 'Embarked' values filled with mode: {embarked_mode}\")\n",
    "\n",
    "# Step 4.3: Drop 'Cabin' column\n",
    " \n",
    "df.drop('Cabin', axis=1, inplace=True)\n",
    "print(\"'Cabin' column dropped.\")\n",
    "\n",
    "# Step 4.4: Convert Categorical columns to Numbers\n",
    " \n",
    "df = pd.get_dummies(df, columns=['Sex', 'Embarked'], drop_first=True)\n",
    " \n",
    " \n",
    "print(\"\\n--- Data after cleaning and conversion ---\")\n",
    "print(df.head())\n",
    "print(\"\\n--- Checking for nulls again ---\")\n",
    "print(df.isnull().sum())"
   ]
  },
  {
   "cell_type": "code",
   "execution_count": 49,
   "id": "db798914",
   "metadata": {},
   "outputs": [
    {
     "name": "stdout",
     "output_type": "stream",
     "text": [
      "\n",
      "--- Features (X) ---\n",
      "   Pclass   Age  SibSp  Parch     Fare  Sex_male  Embarked_Q  Embarked_S\n",
      "0       3  22.0      1      0   7.2500      True       False        True\n",
      "1       1  38.0      1      0  71.2833     False       False       False\n",
      "2       3  26.0      0      0   7.9250     False       False        True\n",
      "3       1  35.0      1      0  53.1000     False       False        True\n",
      "4       3  35.0      0      0   8.0500      True       False        True\n",
      "\n",
      "--- Target (y) ---\n",
      "0    0\n",
      "1    1\n",
      "2    1\n",
      "3    1\n",
      "4    0\n",
      "Name: Survived, dtype: int64\n"
     ]
    }
   ],
   "source": [
    "# --- 5. Feature Selection ---\n",
    " \n",
    "X = df.drop(['Survived', 'PassengerId', 'Name', 'Ticket'], axis=1)\n",
    "y = df['Survived']\n",
    "\n",
    "print(\"\\n--- Features (X) ---\")\n",
    "print(X.head())\n",
    "print(\"\\n--- Target (y) ---\")\n",
    "print(y.head())\n"
   ]
  },
  {
   "cell_type": "code",
   "execution_count": 50,
   "id": "837471f2",
   "metadata": {},
   "outputs": [
    {
     "name": "stdout",
     "output_type": "stream",
     "text": [
      "\n",
      "Data split into: 712 training samples and 179 testing samples.\n"
     ]
    }
   ],
   "source": [
    "# --- 6. Split Data into Training and Testing sets ---\n",
    "X_train, X_test, y_train, y_test = train_test_split(X, y, test_size=0.2, random_state=42)\n",
    "print(f\"\\nData split into: {X_train.shape[0]} training samples and {X_test.shape[0]} testing samples.\")\n"
   ]
  },
  {
   "cell_type": "code",
   "execution_count": 51,
   "id": "5445a938",
   "metadata": {},
   "outputs": [
    {
     "name": "stdout",
     "output_type": "stream",
     "text": [
      "\n",
      "Model training complete!\n"
     ]
    }
   ],
   "source": [
    "# --- 7. Train the Machine Learning Model ---\n",
    " \n",
    "model = LogisticRegression(max_iter=1000) \n",
    "\n",
    "# Model  train  \n",
    "model.fit(X_train, y_train)\n",
    "print(\"\\nModel training complete!\")\n",
    "\n"
   ]
  },
  {
   "cell_type": "code",
   "execution_count": 52,
   "id": "cb965954",
   "metadata": {},
   "outputs": [
    {
     "name": "stdout",
     "output_type": "stream",
     "text": [
      "\n",
      "--- Model Evaluation ---\n",
      "Accuracy: 81.01%\n",
      "\n",
      "Classification Report:\n",
      "              precision    recall  f1-score   support\n",
      "\n",
      "           0       0.83      0.86      0.84       105\n",
      "           1       0.79      0.74      0.76        74\n",
      "\n",
      "    accuracy                           0.81       179\n",
      "   macro avg       0.81      0.80      0.80       179\n",
      "weighted avg       0.81      0.81      0.81       179\n",
      "\n",
      "\n",
      "Confusion Matrix:\n"
     ]
    },
    {
     "data": {
      "image/png": "[encoded data removed]",
      "text/plain": [
       "<Figure size 640x480 with 2 Axes>"
      ]
     },
     "metadata": {},
     "output_type": "display_data"
    }
   ],
   "source": [
    "\n",
    "# --- 8. Evaluate the Model ---\n",
    "# Test data predictions  \n",
    "y_pred = model.predict(X_test)\n",
    "\n",
    "# Accuracy \n",
    "accuracy = accuracy_score(y_test, y_pred)\n",
    "print(\"\\n--- Model Evaluation ---\")\n",
    "print(f\"Accuracy: {accuracy * 100:.2f}%\")\n",
    "\n",
    "# Classification report \n",
    "print(\"\\nClassification Report:\")\n",
    "print(classification_report(y_test, y_pred))\n",
    "\n",
    "# Confusion Matrix \n",
    "print(\"\\nConfusion Matrix:\")\n",
    "cm = confusion_matrix(y_test, y_pred)\n",
    "sns.heatmap(cm, annot=True, fmt='d')\n",
    "plt.xlabel('Predicted')\n",
    "plt.ylabel('Actual')\n",
    "plt.show()"
   ]
  },
  {
   "cell_type": "code",
   "execution_count": 53,
   "id": "ef75e863",
   "metadata": {},
   "outputs": [
    {
     "name": "stdout",
     "output_type": "stream",
     "text": [
      "Model saved to ../models/titanic_logistic_regression.joblib\n"
     ]
    }
   ],
   "source": [
    "import joblib\n",
    "\n",
    " \n",
    "import os\n",
    "os.makedirs('../models', exist_ok=True)  \n",
    "\n",
    "model_filename = '../models/titanic_logistic_regression.joblib'\n",
    "joblib.dump(model, model_filename)\n",
    "\n",
    "print(f\"Model saved to {model_filename}\")"
   ]
  },
  {
   "cell_type": "code",
   "execution_count": null,
   "id": "4e132d15",
   "metadata": {},
   "outputs": [],
   "source": []
  }
 ],
 "metadata": {
  "language_info": {
   "name": "python"
  }
 },
 "nbformat": 4,
 "nbformat_minor": 5
}
